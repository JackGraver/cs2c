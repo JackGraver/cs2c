{
 "cells": [
  {
   "cell_type": "code",
   "execution_count": 1,
   "id": "01069693",
   "metadata": {},
   "outputs": [],
   "source": [
    "from awpy import Demo\n",
    "import polars as pl\n",
    "\n",
    "dem = Demo(\"mouz-vs-vitality-m3-inferno.dem\", verbose=False)\n",
    "dem.parse(player_props=[\"health\", \"armor_value\", \"yaw\", \"inventory\"])\n",
    "game_times = dem.parse_ticks(other_props=[\"game_time\", \"team_clan_name\", 'is_terrorist_timeout', 'is_ct_timeout'])   "
   ]
  },
  {
   "cell_type": "code",
   "execution_count": null,
   "id": "9f07c6ff",
   "metadata": {},
   "outputs": [
    {
     "ename": "ColumnNotFoundError",
     "evalue": "\"tick\" not found",
     "output_type": "error",
     "traceback": [
      "\u001b[31m---------------------------------------------------------------------------\u001b[39m",
      "\u001b[31mColumnNotFoundError\u001b[39m                       Traceback (most recent call last)",
      "\u001b[36mCell\u001b[39m\u001b[36m \u001b[39m\u001b[32mIn[12]\u001b[39m\u001b[32m, line 3\u001b[39m\n\u001b[32m      1\u001b[39m kills = dem.events[\u001b[33m'\u001b[39m\u001b[33mplayer_death\u001b[39m\u001b[33m'\u001b[39m][\u001b[33m'\u001b[39m\u001b[33massistedflash\u001b[39m\u001b[33m'\u001b[39m, \u001b[33m'\u001b[39m\u001b[33massister_name\u001b[39m\u001b[33m'\u001b[39m, \u001b[33m'\u001b[39m\u001b[33massister_side\u001b[39m\u001b[33m'\u001b[39m, \u001b[33m'\u001b[39m\u001b[33mattacker_name\u001b[39m\u001b[33m'\u001b[39m, \u001b[33m'\u001b[39m\u001b[33mattacker_side\u001b[39m\u001b[33m'\u001b[39m, \u001b[33m'\u001b[39m\u001b[33mattackerblind\u001b[39m\u001b[33m'\u001b[39m, \u001b[33m'\u001b[39m\u001b[33mattackerinair\u001b[39m\u001b[33m'\u001b[39m, \u001b[33m'\u001b[39m\u001b[33mheadshot\u001b[39m\u001b[33m'\u001b[39m, \u001b[33m'\u001b[39m\u001b[33mnoscope\u001b[39m\u001b[33m'\u001b[39m, \u001b[33m'\u001b[39m\u001b[33mpenetrated\u001b[39m\u001b[33m'\u001b[39m, \u001b[33m'\u001b[39m\u001b[33mthrusmoke\u001b[39m\u001b[33m'\u001b[39m, \u001b[33m'\u001b[39m\u001b[33mweapon\u001b[39m\u001b[33m'\u001b[39m, \u001b[33m'\u001b[39m\u001b[33muser_name\u001b[39m\u001b[33m'\u001b[39m, \u001b[33m'\u001b[39m\u001b[33muser_side\u001b[39m\u001b[33m'\u001b[39m]\n\u001b[32m----> \u001b[39m\u001b[32m3\u001b[39m \u001b[38;5;28mprint\u001b[39m(\u001b[43mkills\u001b[49m\u001b[43m[\u001b[49m\u001b[33;43m'\u001b[39;49m\u001b[33;43mtick\u001b[39;49m\u001b[33;43m'\u001b[39;49m\u001b[43m]\u001b[49m)\n",
      "\u001b[36mFile \u001b[39m\u001b[32mc:\\Users\\Jacks Desktop\\AppData\\Local\\Programs\\Python\\Python313\\Lib\\site-packages\\polars\\dataframe\\frame.py:1363\u001b[39m, in \u001b[36mDataFrame.__getitem__\u001b[39m\u001b[34m(self, key)\u001b[39m\n\u001b[32m   1226\u001b[39m \u001b[38;5;28;01mdef\u001b[39;00m\u001b[38;5;250m \u001b[39m\u001b[34m__getitem__\u001b[39m(\n\u001b[32m   1227\u001b[39m     \u001b[38;5;28mself\u001b[39m,\n\u001b[32m   1228\u001b[39m     key: (\n\u001b[32m   (...)\u001b[39m\u001b[32m   1237\u001b[39m     ),\n\u001b[32m   1238\u001b[39m ) -> DataFrame | Series | Any:\n\u001b[32m   1239\u001b[39m \u001b[38;5;250m    \u001b[39m\u001b[33;03m\"\"\"\u001b[39;00m\n\u001b[32m   1240\u001b[39m \u001b[33;03m    Get part of the DataFrame as a new DataFrame, Series, or scalar.\u001b[39;00m\n\u001b[32m   1241\u001b[39m \n\u001b[32m   (...)\u001b[39m\u001b[32m   1361\u001b[39m \u001b[33;03m    └─────┴─────┴─────┘\u001b[39;00m\n\u001b[32m   1362\u001b[39m \u001b[33;03m    \"\"\"\u001b[39;00m\n\u001b[32m-> \u001b[39m\u001b[32m1363\u001b[39m     \u001b[38;5;28;01mreturn\u001b[39;00m \u001b[43mget_df_item_by_key\u001b[49m\u001b[43m(\u001b[49m\u001b[38;5;28;43mself\u001b[39;49m\u001b[43m,\u001b[49m\u001b[43m \u001b[49m\u001b[43mkey\u001b[49m\u001b[43m)\u001b[49m\n",
      "\u001b[36mFile \u001b[39m\u001b[32mc:\\Users\\Jacks Desktop\\AppData\\Local\\Programs\\Python\\Python313\\Lib\\site-packages\\polars\\_utils\\getitem.py:163\u001b[39m, in \u001b[36mget_df_item_by_key\u001b[39m\u001b[34m(df, key)\u001b[39m\n\u001b[32m    159\u001b[39m \u001b[38;5;66;03m# Single string input, e.g. df[\"a\"]\u001b[39;00m\n\u001b[32m    160\u001b[39m \u001b[38;5;28;01mif\u001b[39;00m \u001b[38;5;28misinstance\u001b[39m(key, \u001b[38;5;28mstr\u001b[39m):\n\u001b[32m    161\u001b[39m     \u001b[38;5;66;03m# This case is required because empty strings are otherwise treated\u001b[39;00m\n\u001b[32m    162\u001b[39m     \u001b[38;5;66;03m# as an empty Sequence in `_select_rows`\u001b[39;00m\n\u001b[32m--> \u001b[39m\u001b[32m163\u001b[39m     \u001b[38;5;28;01mreturn\u001b[39;00m \u001b[43mdf\u001b[49m\u001b[43m.\u001b[49m\u001b[43mget_column\u001b[49m\u001b[43m(\u001b[49m\u001b[43mkey\u001b[49m\u001b[43m)\u001b[49m\n\u001b[32m    165\u001b[39m \u001b[38;5;66;03m# Single input - df[1] - or multiple inputs - df[\"a\", \"b\", \"c\"]\u001b[39;00m\n\u001b[32m    166\u001b[39m \u001b[38;5;28;01mtry\u001b[39;00m:\n",
      "\u001b[36mFile \u001b[39m\u001b[32mc:\\Users\\Jacks Desktop\\AppData\\Local\\Programs\\Python\\Python313\\Lib\\site-packages\\polars\\dataframe\\frame.py:8524\u001b[39m, in \u001b[36mDataFrame.get_column\u001b[39m\u001b[34m(self, name, default)\u001b[39m\n\u001b[32m   8477\u001b[39m \u001b[38;5;250m\u001b[39m\u001b[33;03m\"\"\"\u001b[39;00m\n\u001b[32m   8478\u001b[39m \u001b[33;03mGet a single column by name.\u001b[39;00m\n\u001b[32m   8479\u001b[39m \n\u001b[32m   (...)\u001b[39m\u001b[32m   8521\u001b[39m \u001b[33;03mTrue\u001b[39;00m\n\u001b[32m   8522\u001b[39m \u001b[33;03m\"\"\"\u001b[39;00m\n\u001b[32m   8523\u001b[39m \u001b[38;5;28;01mtry\u001b[39;00m:\n\u001b[32m-> \u001b[39m\u001b[32m8524\u001b[39m     \u001b[38;5;28;01mreturn\u001b[39;00m wrap_s(\u001b[38;5;28;43mself\u001b[39;49m\u001b[43m.\u001b[49m\u001b[43m_df\u001b[49m\u001b[43m.\u001b[49m\u001b[43mget_column\u001b[49m\u001b[43m(\u001b[49m\u001b[43mname\u001b[49m\u001b[43m)\u001b[49m)\n\u001b[32m   8525\u001b[39m \u001b[38;5;28;01mexcept\u001b[39;00m ColumnNotFoundError:\n\u001b[32m   8526\u001b[39m     \u001b[38;5;28;01mif\u001b[39;00m default \u001b[38;5;129;01mis\u001b[39;00m no_default:\n",
      "\u001b[31mColumnNotFoundError\u001b[39m: \"tick\" not found"
     ]
    }
   ],
   "source": [
    "kills = dem.events['player_death']['tick', 'assistedflash', 'assister_name', 'assister_side', 'attacker_name', 'attacker_side', 'attackerblind', 'attackerinair', 'headshot', 'noscope', 'penetrated', 'thrusmoke', 'weapon', 'user_name', 'user_side']\n",
    "\n",
    "print(kills['tick'])"
   ]
  }
 ],
 "metadata": {
  "kernelspec": {
   "display_name": "Python 3",
   "language": "python",
   "name": "python3"
  },
  "language_info": {
   "codemirror_mode": {
    "name": "ipython",
    "version": 3
   },
   "file_extension": ".py",
   "mimetype": "text/x-python",
   "name": "python",
   "nbconvert_exporter": "python",
   "pygments_lexer": "ipython3",
   "version": "3.13.2"
  }
 },
 "nbformat": 4,
 "nbformat_minor": 5
}
