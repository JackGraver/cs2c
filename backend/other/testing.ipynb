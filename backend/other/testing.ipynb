{
 "cells": [
  {
   "cell_type": "code",
   "execution_count": 2,
   "id": "01069693",
   "metadata": {},
   "outputs": [],
   "source": [
    "from awpy import Demo\n",
    "import polars as pl\n",
    "\n",
    "dem = Demo(\"mouz-vs-vitality-m3-inferno.dem\", verbose=False)\n",
    "dem.parse(player_props=[\"health\", \"armor_value\", \"yaw\", \"inventory\"])\n",
    "game_times = dem.parse_ticks(other_props=[\"game_time\", \"team_clan_name\", 'is_terrorist_timeout', 'is_ct_timeout'])   "
   ]
  },
  {
   "cell_type": "code",
   "execution_count": 19,
   "id": "9f07c6ff",
   "metadata": {},
   "outputs": [
    {
     "name": "stdout",
     "output_type": "stream",
     "text": [
      "shape: (10, 3)\n",
      "┌───────────┬──────────────────────┬─────────────────────┐\n",
      "│ round_num ┆ ct_wins_during_round ┆ t_wins_during_round │\n",
      "│ ---       ┆ ---                  ┆ ---                 │\n",
      "│ u32       ┆ i32                  ┆ i32                 │\n",
      "╞═══════════╪══════════════════════╪═════════════════════╡\n",
      "│ 1         ┆ 0                    ┆ 0                   │\n",
      "│ 2         ┆ 1                    ┆ 0                   │\n",
      "│ 3         ┆ 1                    ┆ 1                   │\n",
      "│ 4         ┆ 1                    ┆ 2                   │\n",
      "│ 5         ┆ 1                    ┆ 3                   │\n",
      "│ 6         ┆ 1                    ┆ 4                   │\n",
      "│ 7         ┆ 1                    ┆ 5                   │\n",
      "│ 8         ┆ 1                    ┆ 6                   │\n",
      "│ 9         ┆ 1                    ┆ 7                   │\n",
      "│ 10        ┆ 1                    ┆ 8                   │\n",
      "└───────────┴──────────────────────┴─────────────────────┘\n"
     ]
    }
   ],
   "source": [
    "# cumulative_wins = (\n",
    "#     dem.rounds['round_num', 'winner'].with_columns([\n",
    "#         pl.when(pl.col(\"winner\") == \"ct\").then(1).otherwise(0).alias(\"ct_wins\"),\n",
    "#         pl.when(pl.col(\"winner\") == \"t\").then(1).otherwise(0).alias(\"t_wins\")\n",
    "#     ])\n",
    "#     .select([\n",
    "#         \"round_num\", \n",
    "#         pl.col(\"ct_wins\").cum_sum().alias(\"ct_wins\"),\n",
    "#         pl.col(\"t_wins\").cum_sum().alias(\"t_wins\")\n",
    "#     ])\n",
    "# )\n",
    "\n",
    "# Create a column for CT and T wins, then apply cumulative sum\n",
    "df = (\n",
    "    dem.rounds['round_num', 'winner'].with_columns([\n",
    "        pl.when(pl.col(\"winner\") == \"ct\").then(1).otherwise(0).alias(\"ct_wins\"),\n",
    "        pl.when(pl.col(\"winner\") == \"t\").then(1).otherwise(0).alias(\"t_wins\")\n",
    "    ])\n",
    "    .with_columns([\n",
    "        pl.col(\"ct_wins\").cum_sum().alias(\"ct_wins_cumsum\"),\n",
    "        pl.col(\"t_wins\").cum_sum().alias(\"t_wins_cumsum\")\n",
    "    ])\n",
    ")\n",
    "\n",
    "# Shift the cumulative columns by 1 to get \"wins during the round\"\n",
    "df = df.with_columns([\n",
    "    pl.col(\"ct_wins_cumsum\").shift(1).fill_null(0).alias(\"ct_wins_during_round\"),\n",
    "    pl.col(\"t_wins_cumsum\").shift(1).fill_null(0).alias(\"t_wins_during_round\")\n",
    "])\n",
    "\n",
    "# Select relevant columns and display the result\n",
    "df = df.select([\n",
    "    \"round_num\",\n",
    "    \"ct_wins_during_round\",\n",
    "    \"t_wins_during_round\"\n",
    "])\n",
    "\n",
    "print(df.head(10))"
   ]
  }
 ],
 "metadata": {
  "kernelspec": {
   "display_name": "Python 3",
   "language": "python",
   "name": "python3"
  },
  "language_info": {
   "codemirror_mode": {
    "name": "ipython",
    "version": 3
   },
   "file_extension": ".py",
   "mimetype": "text/x-python",
   "name": "python",
   "nbconvert_exporter": "python",
   "pygments_lexer": "ipython3",
   "version": "3.13.2"
  }
 },
 "nbformat": 4,
 "nbformat_minor": 5
}
