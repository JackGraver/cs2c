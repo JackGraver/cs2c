{
 "cells": [
  {
   "cell_type": "code",
   "execution_count": 1,
   "id": "01069693",
   "metadata": {},
   "outputs": [],
   "source": [
    "from awpy import Demo\n",
    "import polars as pl\n",
    "\n",
    "dem = Demo(\"mouz-vs-vitality-m3-inferno.dem\", verbose=False)\n",
    "dem.parse(player_props=[\"health\", \"armor_value\", \"yaw\", \"inventory\"])\n",
    "game_times = dem.parse_ticks(other_props=[\"game_time\", \"team_clan_name\", 'is_terrorist_timeout', 'is_ct_timeout'])   "
   ]
  },
  {
   "cell_type": "code",
   "execution_count": 18,
   "id": "9f07c6ff",
   "metadata": {},
   "outputs": [
    {
     "name": "stdout",
     "output_type": "stream",
     "text": [
      "shape: (120,)\n",
      "Series: 'user_name' [str]\n",
      "[\n",
      "\t\"ropz\"\n",
      "\t\"xertioN\"\n",
      "\t\"ZywOo\"\n",
      "\t\"Brollan\"\n",
      "\t\"apEX\"\n",
      "\t…\n",
      "\t\"Spinx\"\n",
      "\t\"torzsi\"\n",
      "\t\"Brollan\"\n",
      "\t\"ropz\"\n",
      "\t\"Jimpphat\"\n",
      "]\n"
     ]
    }
   ],
   "source": [
    "\n",
    "kills = dem.events['player_death']['tick', 'assistedflash', 'assister_name', 'assister_side', 'attacker_name', 'attacker_side', 'attackerblind', 'attackerinair', 'headshot', 'noscope', 'penetrated', 'thrusmoke', 'weapon', 'user_name', 'user_side']\n",
    "\n",
    "print(kills['user_name'])"
   ]
  }
 ],
 "metadata": {
  "kernelspec": {
   "display_name": "Python 3",
   "language": "python",
   "name": "python3"
  },
  "language_info": {
   "codemirror_mode": {
    "name": "ipython",
    "version": 3
   },
   "file_extension": ".py",
   "mimetype": "text/x-python",
   "name": "python",
   "nbconvert_exporter": "python",
   "pygments_lexer": "ipython3",
   "version": "3.13.2"
  }
 },
 "nbformat": 4,
 "nbformat_minor": 5
}
