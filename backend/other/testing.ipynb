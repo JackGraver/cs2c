{
 "cells": [
  {
   "cell_type": "code",
   "execution_count": 1,
   "id": "01069693",
   "metadata": {},
   "outputs": [],
   "source": [
    "from awpy import Demo\n",
    "import polars as pl\n",
    "\n",
    "dem = Demo(\"mouz-vs-vitality-m3-inferno.dem\", verbose=False)\n",
    "dem.parse(player_props=[\"health\", \"armor_value\", \"yaw\", \"inventory\"])\n",
    "game_times = dem.parse_ticks(other_props=[\"game_time\", \"team_clan_name\", 'is_terrorist_timeout', 'is_ct_timeout'])   "
   ]
  },
  {
   "cell_type": "code",
   "execution_count": 65,
   "id": "9f07c6ff",
   "metadata": {},
   "outputs": [
    {
     "name": "stdout",
     "output_type": "stream",
     "text": [
      "dict_keys(['weapon_fire', 'bomb_dropped', 'smokegrenade_detonate', 'player_death', 'flashbang_detonate', 'smokegrenade_expired', 'bomb_pickup', 'player_given_c4', 'item_pickup', 'inferno_expire', 'bomb_planted', 'player_hurt', 'player_spawn', 'round_freeze_end', 'inferno_startburn', 'round_officially_ended', 'bomb_defused', 'bomb_exploded', 'hegrenade_detonate', 'player_sound', 'round_start', 'round_end'])\n"
     ]
    }
   ],
   "source": [
    "print(dem.events.keys())\n",
    "\n",
    "# not_weapons = ['knife', 'flashbang', 'smokegrenade']\n",
    "\n",
    "\n",
    "# r1_shots = dem.events['weapon_fire']['tick', 'user_X', 'user_Y', 'user_yaw', 'weapon'].filter(pl.col('tick') < 3000).filter(~pl.col('weapon').str.contains(\"|\".join(not_weapons)))\n",
    "# shot_id = 1\n",
    "# r1_shots = r1_shots.with_columns(pl.arange(1, r1_shots.height + 1).alias('shot_id'))\n",
    "\n",
    "# r1_shots = r1_shots.to_pandas()\n",
    "\n",
    "# # active_molly = r1_molly.query(f\"{tick} >= start_tick and {tick} <= end_tick\")[[\"X\", \"Y\", \"start_tick\", \"end_tick\", \"entity_id\"]].to_dict(\"records\")\n",
    "\n",
    "\n",
    "# print(r1_shots.query(f\"{1920 - 8} <= tick and {1920 + 8} >= tick\"))"
   ]
  }
 ],
 "metadata": {
  "kernelspec": {
   "display_name": "Python 3",
   "language": "python",
   "name": "python3"
  },
  "language_info": {
   "codemirror_mode": {
    "name": "ipython",
    "version": 3
   },
   "file_extension": ".py",
   "mimetype": "text/x-python",
   "name": "python",
   "nbconvert_exporter": "python",
   "pygments_lexer": "ipython3",
   "version": "3.13.2"
  }
 },
 "nbformat": 4,
 "nbformat_minor": 5
}
