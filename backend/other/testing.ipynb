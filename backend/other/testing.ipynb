{
 "cells": [
  {
   "cell_type": "code",
   "execution_count": 2,
   "id": "01069693",
   "metadata": {},
   "outputs": [],
   "source": [
    "from awpy import Demo\n",
    "import polars as pl\n",
    "\n",
    "dem = Demo(\"mouz-vs-vitality-m3-inferno.dem\", verbose=False)\n",
    "dem.parse(player_props=[\"health\", \"armor_value\", \"yaw\", \"inventory\"])\n",
    "game_times = dem.parse_ticks(other_props=[\"game_time\", \"team_clan_name\", 'is_terrorist_timeout', 'is_ct_timeout'])   "
   ]
  },
  {
   "cell_type": "code",
   "execution_count": 6,
   "id": "9f07c6ff",
   "metadata": {},
   "outputs": [
    {
     "name": "stdout",
     "output_type": "stream",
     "text": [
      "shape: (10, 2)\n",
      "┌─────────────┬─────────────┐\n",
      "│ user_X      ┆ user_Y      │\n",
      "│ ---         ┆ ---         │\n",
      "│ f32         ┆ f32         │\n",
      "╞═════════════╪═════════════╡\n",
      "│ 298.159485  ┆ 2776.105713 │\n",
      "│ 545.25647   ┆ 2930.877686 │\n",
      "│ 545.995544  ┆ 2939.295898 │\n",
      "│ 1966.031982 ┆ 721.96875   │\n",
      "│ 1819.033813 ┆ 294.8302    │\n",
      "│ 545.39447   ┆ 2932.395996 │\n",
      "│ 530.34845   ┆ 2946.00415  │\n",
      "│ 1876.968506 ┆ 384.598877  │\n",
      "│ 544.625732  ┆ 2923.566895 │\n",
      "│ 176.470169  ┆ 2767.276367 │\n",
      "└─────────────┴─────────────┘\n"
     ]
    }
   ],
   "source": [
    "print(dem.events['bomb_planted']['user_X', 'user_Y'])"
   ]
  }
 ],
 "metadata": {
  "kernelspec": {
   "display_name": "Python 3",
   "language": "python",
   "name": "python3"
  },
  "language_info": {
   "codemirror_mode": {
    "name": "ipython",
    "version": 3
   },
   "file_extension": ".py",
   "mimetype": "text/x-python",
   "name": "python",
   "nbconvert_exporter": "python",
   "pygments_lexer": "ipython3",
   "version": "3.13.2"
  }
 },
 "nbformat": 4,
 "nbformat_minor": 5
}
