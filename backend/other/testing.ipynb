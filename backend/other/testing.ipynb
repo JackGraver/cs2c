{
 "cells": [
  {
   "cell_type": "code",
   "execution_count": 2,
   "id": "01069693",
   "metadata": {},
   "outputs": [],
   "source": [
    "from awpy import Demo\n",
    "import polars as pl\n",
    "\n",
    "dem = Demo(\"mouz-vs-vitality-m3-inferno.dem\", verbose=False)\n",
    "dem.parse(player_props=[\"health\", \"armor_value\", \"yaw\", \"inventory\"])\n",
    "game_times = dem.parse_ticks(other_props=[\"game_time\", \"team_clan_name\", 'is_terrorist_timeout', 'is_ct_timeout'])   "
   ]
  },
  {
   "cell_type": "code",
   "execution_count": 10,
   "id": "9f07c6ff",
   "metadata": {},
   "outputs": [
    {
     "name": "stdout",
     "output_type": "stream",
     "text": [
      "{76561198063336407: 'MOUZ', 76561197991272318: 'Team Vitality', 76561198113666193: 'Team Vitality', 76561198138828475: 'MOUZ', 76561197989744167: 'Team Vitality', 76561197973140692: 'Team Vitality', 76561198355739212: 'MOUZ', 76561197978835160: 'Team Vitality', 76561198855375325: 'MOUZ', 76561198193174134: 'MOUZ'}\n",
      "{'X': [2472.349853515625, -1675.6199951171875, -1657.22998046875, 2456.830078125, -1520.06005859375, -1586.52001953125, 2493.0, -1662.1800537109375, 2353.0, 2397.0], 'Y': [2005.969970703125, 351.69500732421875, 419.5769958496094, 2153.159912109375, 430.8909912109375, 440.7900085449219, 2090.0, 288.7619934082031, 1977.0, 2079.0], 'side': ['ct', 't', 't', 'ct', 't', 't', 'ct', 't', 'ct', 'ct'], 'health': [100, 100, 100, 100, 100, 100, 100, 100, 100, 100], 'name': ['Spinx', 'ropz', 'ZywOo', 'Brollan', 'apEX', 'mezii', 'torzsi', 'flameZ', 'Jimpphat', 'xertioN'], 'yaw': [160.00006103515625, 47.99995422363281, -1.499969482421875, -108.49994659423828, -92.99995422363281, -22.9998779296875, -136.49996948242188, 77.49996948242188, 97.4998779296875, 135.0], 'inventory': [['M9 Bayonet', 'USP-S'], ['Karambit', 'Glock-18'], ['Karambit', 'Glock-18'], ['Karambit', 'USP-S'], ['M9 Bayonet', 'Glock-18'], ['M9 Bayonet', 'Glock-18'], ['Butterfly Knife', 'USP-S'], ['Karambit', 'Glock-18', 'C4 Explosive'], ['M9 Bayonet', 'USP-S'], ['Butterfly Knife', 'USP-S']], 'team_clan_name': ['MOUZ', 'Team Vitality', 'Team Vitality', 'MOUZ', 'Team Vitality', 'Team Vitality', 'MOUZ', 'Team Vitality', 'MOUZ', 'MOUZ']}\n",
      "{'X': [2472.349853515625, -1675.6199951171875, -1657.22998046875, 2456.830078125, -1520.06005859375, -1586.52001953125, 2493.0, -1662.1800537109375, 2353.0, 2397.0], 'Y': [2005.969970703125, 351.69500732421875, 419.5769958496094, 2153.159912109375, 430.8909912109375, 440.7900085449219, 2090.0, 288.7619934082031, 1977.0, 2079.0], 'side': ['ct', 't', 't', 'ct', 't', 't', 'ct', 't', 'ct', 'ct'], 'health': [100, 100, 100, 100, 100, 100, 100, 100, 100, 100], 'name': ['Spinx', 'ropz', 'ZywOo', 'Brollan', 'apEX', 'mezii', 'torzsi', 'flameZ', 'Jimpphat', 'xertioN'], 'yaw': [160.00006103515625, 47.99995422363281, -1.499969482421875, -108.49994659423828, -92.99995422363281, -22.9998779296875, -136.49996948242188, 77.49996948242188, 97.4998779296875, 135.0], 'inventory': [['M9 Bayonet', 'USP-S'], ['Karambit', 'Glock-18'], ['Karambit', 'Glock-18'], ['Karambit', 'USP-S'], ['M9 Bayonet', 'Glock-18'], ['M9 Bayonet', 'Glock-18'], ['Butterfly Knife', 'USP-S'], ['Karambit', 'Glock-18', 'C4 Explosive'], ['M9 Bayonet', 'USP-S'], ['Butterfly Knife', 'USP-S']]}\n"
     ]
    }
   ],
   "source": [
    "# print(game_times.columns)\n",
    "\n",
    "\n",
    "player_ticks = dem.ticks.filter(\n",
    "    (pl.col(\"round_num\") == 1)\n",
    ").group_by(\"tick\", maintain_order=True).all()\n",
    "    \n",
    "    \n",
    "steamid_to_team = {\n",
    "    row[\"steamid\"]: row[\"team_clan_name\"]\n",
    "    for row in game_times.to_dicts()\n",
    "}\n",
    "print(steamid_to_team)\n",
    "    \n",
    "grouped_dict = player_ticks.to_dict(as_series=False)\n",
    "grouped_dict = {\n",
    "    tick: {\n",
    "        \"X\": grouped_dict[\"X\"][i],\n",
    "        \"Y\": grouped_dict[\"Y\"][i],\n",
    "        \"side\": grouped_dict[\"side\"][i],\n",
    "        \"health\": grouped_dict[\"health\"][i],\n",
    "        \"name\": grouped_dict[\"name\"][i],\n",
    "        \"yaw\": grouped_dict[\"yaw\"][i],\n",
    "        \"inventory\": grouped_dict.get(\"inventory\", [])[i],\n",
    "        \"team_clan_name\": [\n",
    "            steamid_to_team.get(sid) for sid in grouped_dict[\"steamid\"][i]\n",
    "        ]\n",
    "    }\n",
    "    for i, tick in enumerate(grouped_dict[\"tick\"])\n",
    "}\n",
    "print(grouped_dict.get(1))\n",
    "\n",
    "grouped_dict = player_ticks.to_dict(as_series=False)\n",
    "grouped_dict = {\n",
    "    tick: {\n",
    "        \"X\": grouped_dict[\"X\"][i],\n",
    "        \"Y\": grouped_dict[\"Y\"][i],\n",
    "        \"side\": grouped_dict[\"side\"][i],\n",
    "        \"health\": grouped_dict[\"health\"][i],\n",
    "        \"name\": grouped_dict[\"name\"][i],\n",
    "        \"yaw\": grouped_dict[\"yaw\"][i],\n",
    "        \"inventory\": grouped_dict.get(\"inventory\", [])[i]\n",
    "    }\n",
    "    for i, tick in enumerate(grouped_dict[\"tick\"])\n",
    "}\n",
    "print(grouped_dict.get(1))"
   ]
  }
 ],
 "metadata": {
  "kernelspec": {
   "display_name": "Python 3",
   "language": "python",
   "name": "python3"
  },
  "language_info": {
   "codemirror_mode": {
    "name": "ipython",
    "version": 3
   },
   "file_extension": ".py",
   "mimetype": "text/x-python",
   "name": "python",
   "nbconvert_exporter": "python",
   "pygments_lexer": "ipython3",
   "version": "3.13.2"
  }
 },
 "nbformat": 4,
 "nbformat_minor": 5
}
